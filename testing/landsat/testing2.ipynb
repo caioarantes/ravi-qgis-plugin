{
 "cells": [
  {
   "cell_type": "code",
   "execution_count": 12,
   "metadata": {},
   "outputs": [
    {
     "data": {
      "text/plain": [
       "<function ee.Authenticate(authorization_code: Optional[str] = None, quiet: Optional[bool] = None, code_verifier: Optional[str] = None, auth_mode: Optional[str] = None, scopes: Optional[Sequence[str]] = None, force: bool = False) -> Optional[bool]>"
      ]
     },
     "execution_count": 12,
     "metadata": {},
     "output_type": "execute_result"
    }
   ],
   "source": [
    "import ee\n",
    "import zipfile\n",
    "import geopandas as gpd\n",
    "import ee\n",
    "import pandas as pd\n",
    "\n",
    "ee.Initialize(project='ee-caiosimplicioarantestes1')\n",
    "ee.Authenticate"
   ]
  },
  {
   "cell_type": "code",
   "execution_count": 13,
   "metadata": {},
   "outputs": [],
   "source": [
    "shapefile_path = \"./shape/area.kml\"\n",
    "\n",
    "aoi = gpd.read_file(shapefile_path)\n",
    "\n",
    "# Dissolve geometries if multiple exist\n",
    "aoi = aoi.dissolve()\n",
    "\n",
    "geometry = aoi.geometry.iloc[0]\n",
    "\n",
    "# Convert to GeoJSON and remove third dimension\n",
    "geojson = geometry.__geo_interface__\n",
    "geojson['coordinates'] = [\n",
    "    [coord[:2] for coord in ring] if geojson['type'] == 'Polygon' else\n",
    "    [[coord[:2] for coord in ring] for ring in polygon]\n",
    "    for ring in geojson['coordinates']\n",
    "]\n",
    "\n",
    "# Create Earth Engine FeatureCollection\n",
    "aoi = ee.FeatureCollection([ee.Feature(ee.Geometry(geojson))])\n"
   ]
  },
  {
   "cell_type": "code",
   "execution_count": 14,
   "metadata": {},
   "outputs": [
    {
     "name": "stdout",
     "output_type": "stream",
     "text": [
      "Number of images in collection: 12\n"
     ]
    }
   ],
   "source": [
    "# Define the start and end dates for filtering the image collection\n",
    "\n",
    "import pandas as pd\n",
    "from datetime import datetime\n",
    "inicio = '2004-01-11'\n",
    "final = '2005-01-01'\n",
    "nuvem = 50\n",
    "\n",
    "# Load the Landsat 5 image collection and filter by date, location, and cloud coverage\n",
    "landsat = ee.ImageCollection('LANDSAT/LT05/C02/T1_L2') \\\n",
    "    .filterDate(inicio, final) \\\n",
    "    .filterBounds(aoi) \\\n",
    "    .filter(ee.Filter.lt('CLOUD_COVER', nuvem)) \\\n",
    "    .map(lambda image: image.set('date', image.date().format('YYYY-MM-dd')))\n",
    "\n",
    "# Get the number of images in the collection\n",
    "count = landsat.size().getInfo()\n",
    "print(f\"Number of images in collection: {count}\")"
   ]
  },
  {
   "cell_type": "code",
   "execution_count": 16,
   "metadata": {},
   "outputs": [
    {
     "name": "stdout",
     "output_type": "stream",
     "text": [
      "Download URL: https://earthengine.googleapis.com/v1/projects/ee-caiosimplicioarantestes1/thumbnails/a47940f1e3faf19e1adfa4cc4e93023d-f0c42a8782af73d6ab551f38b2a56387:getPixels\n",
      "[==================================================]\n",
      "File downloaded successfully and saved to ./landsat_image.tif\n"
     ]
    }
   ],
   "source": [
    "import requests\n",
    "from requests import exceptions\n",
    "import os\n",
    "\n",
    "# Define the download URL\n",
    "try:\n",
    "    # Ensure 'scale' is set to the native resolution (e.g., 30 for most Landsat bands)\n",
    "    scale = 30  # Or 15 for panchromatic band, if applicable\n",
    "    url = first_image.getDownloadURL({\n",
    "        'scale': scale,\n",
    "        'region': aoi.geometry().bounds().getInfo()['coordinates'],\n",
    "        'filePerBand': False  # Keep bands in a single file\n",
    "    })\n",
    "    print(f\"Download URL: {url}\")\n",
    "except Exception as e:\n",
    "    print(f\"Error generating download URL: {e}\")\n",
    "    exit()\n",
    "\n",
    "# Define the path to save the downloaded file\n",
    "output_path = './landsat_image.tif'\n",
    "\n",
    "# Download the file from the URL and save it to the specified path\n",
    "try:\n",
    "    with requests.get(url, stream=True) as response:\n",
    "        response.raise_for_status()  # Raise HTTPError for bad responses (4xx or 5xx)\n",
    "        total_length = response.headers.get('content-length')\n",
    "\n",
    "        with open(output_path, 'wb') as file:\n",
    "            if total_length is None:  # no content length header\n",
    "                file.write(response.content)\n",
    "            else:\n",
    "                dl = 0\n",
    "                total_length = int(total_length)\n",
    "                for chunk in response.iter_content(chunk_size=8192):  # Adjust chunk size as needed\n",
    "                    dl += len(chunk)\n",
    "                    file.write(chunk)\n",
    "                    done = int(50 * dl / total_length)\n",
    "                    print(f\"\\r[{'=' * done}{' ' * (50-done)}]\", end=\"\")\n",
    "        print() # newline after progress bar\n",
    "\n",
    "    # File size check\n",
    "    file_size = os.path.getsize(output_path)\n",
    "    if total_length is not None and file_size != total_length:\n",
    "        print(f\"Warning: Downloaded file size ({file_size} bytes) does not match expected size ({total_length} bytes).\")\n",
    "\n",
    "    print(f\"File downloaded successfully and saved to {output_path}\")\n",
    "\n",
    "except exceptions.RequestException as e:\n",
    "    print(f\"Failed to download file due to a request exception: {e}\")\n",
    "except IOError as e:\n",
    "    print(f\"Failed to write file to disk: {e}\")\n",
    "except Exception as e:\n",
    "    print(f\"An unexpected error occurred: {e}\")\n",
    "\n",
    "#  **************************************************************************\n",
    "#  REMEMBER:  The quality of the downloaded image critically depends on the\n",
    "#  Earth Engine processing (cloud masking, compositing, etc.) that you\n",
    "#  perform *before* generating the download URL. This script *only* handles\n",
    "#  the download itself.\n",
    "#  **************************************************************************"
   ]
  }
 ],
 "metadata": {
  "kernelspec": {
   "display_name": "base",
   "language": "python",
   "name": "python3"
  },
  "language_info": {
   "codemirror_mode": {
    "name": "ipython",
    "version": 3
   },
   "file_extension": ".py",
   "mimetype": "text/x-python",
   "name": "python",
   "nbconvert_exporter": "python",
   "pygments_lexer": "ipython3",
   "version": "3.12.7"
  }
 },
 "nbformat": 4,
 "nbformat_minor": 2
}
