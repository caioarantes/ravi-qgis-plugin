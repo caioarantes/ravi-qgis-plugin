{
 "cells": [
  {
   "cell_type": "code",
   "execution_count": null,
   "metadata": {},
   "outputs": [
    {
     "ename": "",
     "evalue": "",
     "output_type": "error",
     "traceback": [
      "\u001b[1;31mFalha ao iniciar o Kernel. \n",
      "\u001b[1;31mNão é possível iniciar o Kernel \"base (Python 3.12.7)\" devido a um tempo limite aguardando as portas serem usadas. \n",
      "\u001b[1;31mConsulte o <a href='command:jupyter.viewOutput'>log</a> do Jupyter para obter mais detalhes."
     ]
    }
   ],
   "source": [
    "import re\n",
    "import os\n",
    "import sys\n",
    "import importlib\n",
    "import platform\n",
    "import subprocess\n",
    "import zipfile\n",
    "import json\n",
    "import webbrowser\n",
    "import io\n",
    "import array\n",
    "from datetime import datetime, timedelta\n",
    "from dateutil.relativedelta import relativedelta\n",
    "from qgis.core import QgsWkbTypes\n",
    "\n",
    "import zipfile\n",
    "import geopandas as gpd\n",
    "from shapely.geometry import shape\n",
    "import tempfile\n",
    "import os\n",
    "\n",
    "# PyQt5 and QGIS imports\n",
    "from PyQt5.QtCore import QDate, Qt, QVariant\n",
    "from PyQt5.QtWidgets import (\n",
    "    QApplication, QMainWindow, QLabel, QMessageBox, QFileDialog, QGridLayout, \n",
    "    QWidget, QDesktopWidget, QDialog, QVBoxLayout, QCheckBox, QDialogButtonBox, \n",
    "    QDateEdit, QScrollArea, QPushButton, QHBoxLayout, QToolButton, QTextBrowser\n",
    ")\n",
    "from qgis.PyQt import uic, QtWidgets\n",
    "from qgis.core import (\n",
    "    QgsProject, QgsRasterLayer, QgsRasterShader, QgsColorRampShader, \n",
    "    QgsSingleBandPseudoColorRenderer, QgsStyle, QgsRasterBandStats, \n",
    "    QgsMapLayer, QgsVectorLayer, QgsColorRamp, QgsLayerTreeLayer, \n",
    "    QgsCoordinateReferenceSystem, QgsCoordinateTransform, \n",
    "    QgsMultiBandColorRenderer, QgsContrastEnhancement, \n",
    "    QgsProcessingFeedback, QgsApplication, QgsRectangle, \n",
    "    QgsFeature, QgsGeometry, QgsField, QgsVectorFileWriter,\n",
    ")\n",
    "from qgis.utils import iface\n",
    "import qgis\n",
    "\n",
    "from PyQt5.QtWidgets import QSizePolicy\n",
    "\n",
    "# Scientiffic and data processing libraries\n",
    "import pandas as pd\n",
    "import numpy as np\n",
    "from scipy.signal import savgol_filter\n",
    "import geopandas as gpd\n",
    "import requests\n",
    "import os\n",
    "import platform\n",
    "import shutil\n",
    "import processing\n",
    "\n",
    "\n",
    "# Plotly imports for visualization\n",
    "import plotly.express as px\n",
    "import plotly.graph_objects as go\n",
    "from plotly.subplots import make_subplots\n",
    "\n",
    "import importlib\n",
    "import urllib.request\n",
    "import json\n",
    "import sys\n",
    "\n",
    "\n",
    "import os\n",
    "from PyQt5 import uic\n",
    "from PyQt5.QtCore import QSettings"
   ]
  }
 ],
 "metadata": {
  "kernelspec": {
   "display_name": "base",
   "language": "python",
   "name": "python3"
  },
  "language_info": {
   "name": "python",
   "version": "3.12.7"
  }
 },
 "nbformat": 4,
 "nbformat_minor": 2
}
