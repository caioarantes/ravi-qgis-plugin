{
 "cells": [
  {
   "cell_type": "code",
   "execution_count": 1,
   "metadata": {},
   "outputs": [
    {
     "data": {
      "text/plain": [
       "<function ee.Authenticate(authorization_code: Optional[str] = None, quiet: Optional[bool] = None, code_verifier: Optional[str] = None, auth_mode: Optional[str] = None, scopes: Optional[Sequence[str]] = None, force: bool = False) -> Optional[bool]>"
      ]
     },
     "execution_count": 1,
     "metadata": {},
     "output_type": "execute_result"
    }
   ],
   "source": [
    "import ee\n",
    "import zipfile\n",
    "import geopandas as gpd\n",
    "import ee\n",
    "import pandas as pd\n",
    "\n",
    "ee.Initialize()\n",
    "ee.Authenticate"
   ]
  },
  {
   "cell_type": "code",
   "execution_count": 2,
   "metadata": {},
   "outputs": [
    {
     "name": "stdout",
     "output_type": "stream",
     "text": [
      "Successfully loaded shapefile from C:/Users/pc/My Drive/2025/Uni/TCC/Shapes/contorno_area_total/contorno_area_total.shp.\n",
      "AOI defined successfully.\n"
     ]
    }
   ],
   "source": [
    "shapefile_path = \"C:/Users/pc/My Drive/2025/Uni/TCC/Shapes/contorno_area_total/contorno_area_total.shp\"\n",
    "\n",
    "# Check if the path is a .zip file\n",
    "if shapefile_path.endswith('.zip'):\n",
    "    # Try to read shapefile from a zip archive\n",
    "    try:\n",
    "        # Check if the .zip file exists and open it\n",
    "        with zipfile.ZipFile(shapefile_path, 'r') as zip_ref:\n",
    "            zip_ref.printdir()  # Optional: Print contents of the zip to debug\n",
    "            # Try to find the .shp file inside the zip\n",
    "            shapefile_found = False\n",
    "            for file in zip_ref.namelist():\n",
    "                if file.endswith('.shp'):\n",
    "                    shapefile_found = True\n",
    "                    shapefile_within_zip = file\n",
    "                    break\n",
    "\n",
    "            if shapefile_found:\n",
    "                # Read shapefile directly from the zip file\n",
    "                oi = gpd.read_file(f'zip://{shapefile_path}/{shapefile_within_zip}')\n",
    "                print(f\"Successfully loaded shapefile from {shapefile_path}.\")\n",
    "            else:\n",
    "                print(\"No .shp file found inside the zip archive.\")\n",
    "                #\n",
    "    except Exception as e:\n",
    "        print(f\"Error reading shapefile from zip archive: {e}\")\n",
    "        #\n",
    "else:\n",
    "    # If not a .zip, assume it is a regular shapefile\n",
    "    try:\n",
    "        # Read the shapefile normally\n",
    "        aoi = gpd.read_file(shapefile_path)\n",
    "        print(f\"Successfully loaded shapefile from {shapefile_path}.\")\n",
    "    except Exception as e:\n",
    "        print(f\"Error reading shapefile: {e}\")\n",
    "\n",
    "\n",
    "# After loading, check if the GeoDataFrame is not empty\n",
    "if not aoi.empty:\n",
    "    # If the GeoDataFrame contains multiple geometries, dissolve them into one\n",
    "    if len(aoi) > 1:\n",
    "        aoi = aoi.dissolve()\n",
    "\n",
    "    # Extract the first geometry from the dissolved GeoDataFrame\n",
    "    geometry = aoi.geometry.iloc[0]\n",
    "\n",
    "    # Check if the geometry is a Polygon or MultiPolygon\n",
    "    if geometry.geom_type in ['Polygon', 'MultiPolygon']:\n",
    "        # Convert the geometry to GeoJSON format\n",
    "        geojson = geometry.__geo_interface__\n",
    "\n",
    "        # Remove the third dimension from the coordinates if it exists\n",
    "        if geojson['type'] == 'Polygon':\n",
    "            geojson['coordinates'] = [list(map(lambda coord: coord[:2], ring)) for ring in geojson['coordinates']]\n",
    "        elif geojson['type'] == 'MultiPolygon':\n",
    "            geojson['coordinates'] = [[list(map(lambda coord: coord[:2], ring)) for ring in polygon] for polygon in geojson['coordinates']]\n",
    "\n",
    "        # Create an Earth Engine geometry object from the GeoJSON coordinates\n",
    "        ee_geometry = ee.Geometry(geojson)\n",
    "\n",
    "        # Convert the Earth Engine geometry to a Feature\n",
    "        feature = ee.Feature(ee_geometry)\n",
    "\n",
    "        # Create a FeatureCollection with the feature\n",
    "        aoi = ee.FeatureCollection([feature])\n",
    "\n",
    "        print(\"AOI defined successfully.\")\n",
    "\n",
    "        # check_next_button()\n",
    "    else:\n",
    "        \n",
    "        print(\"The geometry is not a valid type (Polygon or MultiPolygon).\")\n",
    "else:\n",
    "    print(\"The shapefile does not contain any geometries.\")        #"
   ]
  },
  {
   "cell_type": "code",
   "execution_count": 3,
   "metadata": {},
   "outputs": [
    {
     "name": "stdout",
     "output_type": "stream",
     "text": [
      "Number of images in collection: 297\n"
     ]
    }
   ],
   "source": [
    "# Define the start and end dates for filtering the image collection\n",
    "inicio = '2022-01-01'\n",
    "final = '2023-12-31'\n",
    "nuvem ='40'\n",
    "\n",
    "# Define the start and end dates for filtering the image collection\n",
    "startDate = '2022-01-01'\n",
    "endDate = '2023-12-31'\n",
    "\n",
    "# Load the Sentinel-2 image collection and filter by date, location, and cloud coverage\n",
    "sentinel2 = ee.ImageCollection('COPERNICUS/S2_SR_HARMONIZED') \\\n",
    "    .filterDate(startDate, endDate) \\\n",
    "    .filterBounds(aoi) \\\n",
    "    .filter(ee.Filter.lt('CLOUDY_PIXEL_PERCENTAGE', 40))\n",
    "\n",
    "# Get the number of images in the collection\n",
    "count = sentinel2.size().getInfo()\n",
    "print(f\"Number of images in collection: {count}\")"
   ]
  },
  {
   "cell_type": "code",
   "execution_count": 5,
   "metadata": {},
   "outputs": [
    {
     "name": "stdout",
     "output_type": "stream",
     "text": [
      "Number of images before coverage filtering: 297\n",
      "Number of images with >= 100% AOI coverage: 250\n"
     ]
    }
   ],
   "source": [
    "#Coverage Ratio Function\n",
    "# -------------------------------\n",
    "aoi_geometry = aoi.first().geometry()\n",
    "aoi_area = aoi_geometry.area()\n",
    "\n",
    "coverage_threshold = 1\n",
    "\n",
    "def calculate_coverage_ratio(image):\n",
    "    \"\"\"\n",
    "    Calculates the ratio of the AOI area covered by the image.\n",
    "    \n",
    "    Args:\n",
    "        image (ee.Image): The Sentinel-2 image.\n",
    "    \n",
    "    Returns:\n",
    "        ee.Image: The original image with an added 'coverage_ratio' property.\n",
    "    \"\"\"\n",
    "    # Compute the intersection geometry between AOI and image footprint\n",
    "    intersection = aoi_geometry.intersection(image.geometry(), ee.ErrorMargin(1))\n",
    "    \n",
    "    # Calculate the area of the intersection\n",
    "    intersection_area = intersection.area()\n",
    "    \n",
    "    # Calculate the coverage ratio (intersection area / AOI area)\n",
    "    coverage_ratio = intersection_area.divide(aoi_area)\n",
    "    \n",
    "    # Set the coverage ratio as a property of the image\n",
    "    return image.set('coverage_ratio', coverage_ratio)\n",
    "\n",
    "# -------------------------------\n",
    "# Step 6: Apply Coverage Ratio Calculation\n",
    "# -------------------------------\n",
    "\n",
    "# Map the coverage ratio function over the Sentinel-2 collection\n",
    "sentinel2_with_ratio = sentinel2.map(calculate_coverage_ratio)\n",
    "\n",
    "# -------------------------------\n",
    "# Step 7: Filter Based on Coverage Ratio\n",
    "# -------------------------------\n",
    "\n",
    "# Define a filter to keep images with coverage_ratio >= coverage_threshold\n",
    "coverage_filter = ee.Filter.gte('coverage_ratio', coverage_threshold)\n",
    "\n",
    "# Apply the filter to get the final collection\n",
    "fully_covering_images = sentinel2_with_ratio.filter(coverage_filter)\n",
    "\n",
    "# Get the number of images before filtering\n",
    "initial_count = sentinel2.size().getInfo()\n",
    "\n",
    "# Get the number of images after coverage filtering\n",
    "filtered_count = fully_covering_images.size().getInfo()\n",
    "\n",
    "print(f\"Number of images before coverage filtering: {initial_count}\")\n",
    "print(f\"Number of images with >= {coverage_threshold*100}% AOI coverage: {filtered_count}\")\n"
   ]
  },
  {
   "cell_type": "code",
   "execution_count": 5,
   "metadata": {},
   "outputs": [],
   "source": [
    "sentine2 = filtered_count"
   ]
  }
 ],
 "metadata": {
  "kernelspec": {
   "display_name": "base",
   "language": "python",
   "name": "python3"
  },
  "language_info": {
   "codemirror_mode": {
    "name": "ipython",
    "version": 3
   },
   "file_extension": ".py",
   "mimetype": "text/x-python",
   "name": "python",
   "nbconvert_exporter": "python",
   "pygments_lexer": "ipython3",
   "version": "3.12.7"
  }
 },
 "nbformat": 4,
 "nbformat_minor": 2
}
