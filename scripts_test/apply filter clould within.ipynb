{
 "cells": [
  {
   "cell_type": "code",
   "execution_count": 34,
   "metadata": {},
   "outputs": [
    {
     "data": {
      "text/plain": [
       "<function ee.Authenticate(authorization_code: Optional[str] = None, quiet: Optional[bool] = None, code_verifier: Optional[str] = None, auth_mode: Optional[str] = None, scopes: Optional[Sequence[str]] = None, force: bool = False) -> Optional[bool]>"
      ]
     },
     "execution_count": 34,
     "metadata": {},
     "output_type": "execute_result"
    }
   ],
   "source": [
    "import ee\n",
    "import zipfile\n",
    "import geopandas as gpd\n",
    "import ee\n",
    "import pandas as pd\n",
    "\n",
    "ee.Initialize()\n",
    "ee.Authenticate"
   ]
  },
  {
   "cell_type": "code",
   "execution_count": 35,
   "metadata": {},
   "outputs": [
    {
     "name": "stdout",
     "output_type": "stream",
     "text": [
      "Successfully loaded shapefile from C:/Users/pc/My Drive/2025/Uni/TCC/Shapes/contorno_area_total/contorno_area_total.shp.\n",
      "AOI defined successfully.\n"
     ]
    }
   ],
   "source": [
    "shapefile_path = \"C:/Users/pc/My Drive/2025/Uni/TCC/Shapes/contorno_area_total/contorno_area_total.shp\"\n",
    "\n",
    "# Check if the path is a .zip file\n",
    "if shapefile_path.endswith('.zip'):\n",
    "    # Try to read shapefile from a zip archive\n",
    "    try:\n",
    "        # Check if the .zip file exists and open it\n",
    "        with zipfile.ZipFile(shapefile_path, 'r') as zip_ref:\n",
    "            zip_ref.printdir()  # Optional: Print contents of the zip to debug\n",
    "            # Try to find the .shp file inside the zip\n",
    "            shapefile_found = False\n",
    "            for file in zip_ref.namelist():\n",
    "                if file.endswith('.shp'):\n",
    "                    shapefile_found = True\n",
    "                    shapefile_within_zip = file\n",
    "                    break\n",
    "\n",
    "            if shapefile_found:\n",
    "                # Read shapefile directly from the zip file\n",
    "                oi = gpd.read_file(f'zip://{shapefile_path}/{shapefile_within_zip}')\n",
    "                print(f\"Successfully loaded shapefile from {shapefile_path}.\")\n",
    "            else:\n",
    "                print(\"No .shp file found inside the zip archive.\")\n",
    "                #\n",
    "    except Exception as e:\n",
    "        print(f\"Error reading shapefile from zip archive: {e}\")\n",
    "        #\n",
    "else:\n",
    "    # If not a .zip, assume it is a regular shapefile\n",
    "    try:\n",
    "        # Read the shapefile normally\n",
    "        aoi = gpd.read_file(shapefile_path)\n",
    "        print(f\"Successfully loaded shapefile from {shapefile_path}.\")\n",
    "    except Exception as e:\n",
    "        print(f\"Error reading shapefile: {e}\")\n",
    "\n",
    "\n",
    "# After loading, check if the GeoDataFrame is not empty\n",
    "if not aoi.empty:\n",
    "    # If the GeoDataFrame contains multiple geometries, dissolve them into one\n",
    "    if len(aoi) > 1:\n",
    "        aoi = aoi.dissolve()\n",
    "\n",
    "    # Extract the first geometry from the dissolved GeoDataFrame\n",
    "    geometry = aoi.geometry.iloc[0]\n",
    "\n",
    "    # Check if the geometry is a Polygon or MultiPolygon\n",
    "    if geometry.geom_type in ['Polygon', 'MultiPolygon']:\n",
    "        # Convert the geometry to GeoJSON format\n",
    "        geojson = geometry.__geo_interface__\n",
    "\n",
    "        # Remove the third dimension from the coordinates if it exists\n",
    "        if geojson['type'] == 'Polygon':\n",
    "            geojson['coordinates'] = [list(map(lambda coord: coord[:2], ring)) for ring in geojson['coordinates']]\n",
    "        elif geojson['type'] == 'MultiPolygon':\n",
    "            geojson['coordinates'] = [[list(map(lambda coord: coord[:2], ring)) for ring in polygon] for polygon in geojson['coordinates']]\n",
    "\n",
    "        # Create an Earth Engine geometry object from the GeoJSON coordinates\n",
    "        ee_geometry = ee.Geometry(geojson)\n",
    "\n",
    "        # Convert the Earth Engine geometry to a Feature\n",
    "        feature = ee.Feature(ee_geometry)\n",
    "\n",
    "        # Create a FeatureCollection with the feature\n",
    "        aoi = ee.FeatureCollection([feature])\n",
    "\n",
    "        print(\"AOI defined successfully.\")\n",
    "\n",
    "        # check_next_button()\n",
    "    else:\n",
    "        \n",
    "        print(\"The geometry is not a valid type (Polygon or MultiPolygon).\")\n",
    "else:\n",
    "    print(\"The shapefile does not contain any geometries.\")        #"
   ]
  },
  {
   "cell_type": "code",
   "execution_count": 36,
   "metadata": {},
   "outputs": [
    {
     "name": "stdout",
     "output_type": "stream",
     "text": [
      "Number of images in collection: 175\n"
     ]
    }
   ],
   "source": [
    "# Define the start and end dates for filtering the image collection\n",
    "\n",
    "import pandas as pd\n",
    "from datetime import datetime\n",
    "inicio = '2024-01-11'\n",
    "final = '2025-01-11'\n",
    "nuvem = 40\n",
    "\n",
    "# Load the Sentinel-2 image collection and filter by date, location, and cloud coverage\n",
    "sentinel2 = ee.ImageCollection('COPERNICUS/S2_SR_HARMONIZED') \\\n",
    "    .filterDate(inicio, final) \\\n",
    "    .filterBounds(aoi) \\\n",
    "    .filter(ee.Filter.lt('CLOUDY_PIXEL_PERCENTAGE', nuvem)) \\\n",
    "    .map(lambda image: image.set('date', image.date().format('YYYY-MM-dd')))\n",
    "\n",
    "# Get the number of images in the collection\n",
    "count = sentinel2.size().getInfo()\n",
    "print(f\"Number of images in collection: {count}\")"
   ]
  },
  {
   "cell_type": "code",
   "execution_count": 30,
   "metadata": {},
   "outputs": [],
   "source": []
  },
  {
   "cell_type": "code",
   "execution_count": 40,
   "metadata": {},
   "outputs": [
    {
     "name": "stdout",
     "output_type": "stream",
     "text": [
      "Number of images in filtered collection: 154\n"
     ]
    }
   ],
   "source": [
    "scl_classes_behavior = {\n",
    "    0: True,  # No data\n",
    "    1: True,  # Saturated/defective\n",
    "    2: False,   # Dark features\n",
    "    3: True,  # Cloud shadows\n",
    "    4: False,   # Vegetation\n",
    "    5: False,   # Bare soils\n",
    "    6: False,   # Water\n",
    "    7: True,   # Cloud low probability\n",
    "    8: True,  # Cloud medium probability\n",
    "    9: True,  # Cloud high probability\n",
    "    10: True, # Thin cirrus\n",
    "    11: False  # Snow or ice\n",
    "}\n",
    "\n",
    "def filter_within_AOI(sentinel2):\n",
    "    def mask_cloud_and_shadows(image):\n",
    "        scl = image.select('SCL')\n",
    "        # Start with an all-inclusive mask\n",
    "        mask = ee.Image.constant(1)\n",
    "        # Apply exclusions\n",
    "        for class_value, include in scl_classes_behavior.items():\n",
    "            if include:\n",
    "                mask = mask.And(scl.neq(class_value))\n",
    "        \n",
    "        masked_image = image.updateMask(mask)\n",
    "        \n",
    "        # Calculate the percentage of valid pixels\n",
    "        total_pixels = image.select(0).reduceRegion(\n",
    "            reducer=ee.Reducer.count(),\n",
    "            geometry=aoi,\n",
    "            scale=10\n",
    "        ).get('B1')\n",
    "        \n",
    "        valid_pixels = masked_image.select(0).reduceRegion(\n",
    "            reducer=ee.Reducer.count(),\n",
    "            geometry=aoi,\n",
    "            scale=10\n",
    "        ).get('B1')\n",
    "        \n",
    "        percentage_valid = ee.Number(valid_pixels).divide(total_pixels).multiply(100)\n",
    "        \n",
    "        # Add the percentage of valid pixels as a property\n",
    "        return masked_image.set('percentage_valid_pixels', percentage_valid)\n",
    "\n",
    "        # Apply the cloud and shadow mask function to the image collection\n",
    "    sentinel2_masked =  sentinel2.map(mask_cloud_and_shadows)\n",
    "\n",
    "    # Define the valid pixel threshold\n",
    "    valid_pixel_threshold = 90\n",
    "\n",
    "    # Filter the collection based on the valid pixel threshold\n",
    "    filtered_collection = sentinel2_masked.filter(ee.Filter.gte('percentage_valid_pixels', valid_pixel_threshold))\n",
    "\n",
    "    # Get the number of images in the filtered collection\n",
    "    filtered_count = filtered_collection.size().getInfo()\n",
    "\n",
    "    masked_timestamps = filtered_collection.aggregate_array('system:time_start').getInfo()\n",
    "\n",
    "    return sentinel2.filter(\n",
    "        ee.Filter.inList('system:time_start', ee.List(masked_timestamps))\n",
    "    )\n",
    "\n",
    "sentinel2_filtered = filter_within_AOI(sentinel2)\n",
    "\n",
    "# Get the number of images in the filtered collection\n",
    "filtered_count = sentinel2_filtered.size().getInfo()\n",
    "print(f\"Number of images in filtered collection: {filtered_count}\") \n",
    "\n"
   ]
  }
 ],
 "metadata": {
  "kernelspec": {
   "display_name": "base",
   "language": "python",
   "name": "python3"
  },
  "language_info": {
   "codemirror_mode": {
    "name": "ipython",
    "version": 3
   },
   "file_extension": ".py",
   "mimetype": "text/x-python",
   "name": "python",
   "nbconvert_exporter": "python",
   "pygments_lexer": "ipython3",
   "version": "3.12.7"
  }
 },
 "nbformat": 4,
 "nbformat_minor": 2
}
