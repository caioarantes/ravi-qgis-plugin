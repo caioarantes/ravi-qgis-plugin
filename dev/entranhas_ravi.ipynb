{
 "cells": [
  {
   "cell_type": "code",
   "execution_count": null,
   "id": "0316d20c",
   "metadata": {},
   "outputs": [],
   "source": []
  },
  {
   "cell_type": "code",
   "execution_count": null,
   "id": "d5c128a6",
   "metadata": {},
   "outputs": [],
   "source": [
    "d\n"
   ]
  },
  {
   "cell_type": "code",
   "execution_count": 8,
   "id": "70f45fd9",
   "metadata": {},
   "outputs": [
    {
     "name": "stdout",
     "output_type": "stream",
     "text": [
      "Found 87 Sentinel-2 images in 2023 with <20% cloud cover.\n",
      "ID: COPERNICUS/S2/20230110T100401_20230110T100611_T32TQM, Date: 2023-01-10\n",
      "ID: COPERNICUS/S2/20230110T100401_20230110T100611_T33TTG, Date: 2023-01-10\n",
      "ID: COPERNICUS/S2/20230130T100241_20230130T100304_T32TQM, Date: 2023-01-30\n",
      "ID: COPERNICUS/S2/20230130T100241_20230130T100304_T33TTG, Date: 2023-01-30\n",
      "ID: COPERNICUS/S2/20230130T100241_20230130T100304_T33TUG, Date: 2023-01-30\n"
     ]
    }
   ],
   "source": [
    "# Define an area of interest (example: a point and buffer)\n",
    "aoi = ee.Geometry.Point([12.4924, 41.8902]).buffer(10000)  # 10km buffer around Rome, Italy\n",
    "\n",
    "# Search for Sentinel-2 images over the AOI\n",
    "sentinel2 = ee.ImageCollection('COPERNICUS/S2') \\\n",
    "    .filterBounds(aoi) \\\n",
    "    .filterDate('2023-01-01', '2023-12-31') \\\n",
    "    .filter(ee.Filter.lt('CLOUDY_PIXEL_PERCENTAGE', 20))\n",
    "\n",
    "# Get image IDs and dates\n",
    "image_info = sentinel2.aggregate_array('system:id').getInfo()\n",
    "image_dates = sentinel2.aggregate_array('system:time_start').getInfo()\n",
    "\n",
    "# Print the number of images found\n",
    "print(f\"Found {len(image_info)} Sentinel-2 images in 2023 with <20% cloud cover.\")\n",
    "\n",
    "# Print the first 5 image IDs and dates\n",
    "for img_id, date in zip(image_info[:5], image_dates[:5]):\n",
    "    print(f\"ID: {img_id}, Date: {ee.Date(date).format('YYYY-MM-dd').getInfo()}\")"
   ]
  }
 ],
 "metadata": {
  "kernelspec": {
   "display_name": "base",
   "language": "python",
   "name": "python3"
  },
  "language_info": {
   "codemirror_mode": {
    "name": "ipython",
    "version": 3
   },
   "file_extension": ".py",
   "mimetype": "text/x-python",
   "name": "python",
   "nbconvert_exporter": "python",
   "pygments_lexer": "ipython3",
   "version": "3.12.3"
  }
 },
 "nbformat": 4,
 "nbformat_minor": 5
}
