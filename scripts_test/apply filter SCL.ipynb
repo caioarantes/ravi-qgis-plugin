{
 "cells": [
  {
   "cell_type": "code",
   "execution_count": 1,
   "metadata": {},
   "outputs": [
    {
     "data": {
      "text/plain": [
       "<function ee.Authenticate(authorization_code: Optional[str] = None, quiet: Optional[bool] = None, code_verifier: Optional[str] = None, auth_mode: Optional[str] = None, scopes: Optional[Sequence[str]] = None, force: bool = False) -> Optional[bool]>"
      ]
     },
     "execution_count": 1,
     "metadata": {},
     "output_type": "execute_result"
    }
   ],
   "source": [
    "import ee\n",
    "import zipfile\n",
    "import geopandas as gpd\n",
    "import ee\n",
    "import pandas as pd\n",
    "\n",
    "ee.Initialize()\n",
    "ee.Authenticate"
   ]
  },
  {
   "cell_type": "code",
   "execution_count": 2,
   "metadata": {},
   "outputs": [
    {
     "name": "stdout",
     "output_type": "stream",
     "text": [
      "Successfully loaded shapefile from C:/Users/pc/My Drive/2025/Uni/TCC/Shapes/contorno_area_total/contorno_area_total.shp.\n",
      "AOI defined successfully.\n"
     ]
    }
   ],
   "source": [
    "shapefile_path = \"C:/Users/pc/My Drive/2025/Uni/TCC/Shapes/contorno_area_total/contorno_area_total.shp\"\n",
    "\n",
    "# Check if the path is a .zip file\n",
    "if shapefile_path.endswith('.zip'):\n",
    "    # Try to read shapefile from a zip archive\n",
    "    try:\n",
    "        # Check if the .zip file exists and open it\n",
    "        with zipfile.ZipFile(shapefile_path, 'r') as zip_ref:\n",
    "            zip_ref.printdir()  # Optional: Print contents of the zip to debug\n",
    "            # Try to find the .shp file inside the zip\n",
    "            shapefile_found = False\n",
    "            for file in zip_ref.namelist():\n",
    "                if file.endswith('.shp'):\n",
    "                    shapefile_found = True\n",
    "                    shapefile_within_zip = file\n",
    "                    break\n",
    "\n",
    "            if shapefile_found:\n",
    "                # Read shapefile directly from the zip file\n",
    "                oi = gpd.read_file(f'zip://{shapefile_path}/{shapefile_within_zip}')\n",
    "                print(f\"Successfully loaded shapefile from {shapefile_path}.\")\n",
    "            else:\n",
    "                print(\"No .shp file found inside the zip archive.\")\n",
    "                #\n",
    "    except Exception as e:\n",
    "        print(f\"Error reading shapefile from zip archive: {e}\")\n",
    "        #\n",
    "else:\n",
    "    # If not a .zip, assume it is a regular shapefile\n",
    "    try:\n",
    "        # Read the shapefile normally\n",
    "        aoi = gpd.read_file(shapefile_path)\n",
    "        print(f\"Successfully loaded shapefile from {shapefile_path}.\")\n",
    "    except Exception as e:\n",
    "        print(f\"Error reading shapefile: {e}\")\n",
    "\n",
    "\n",
    "# After loading, check if the GeoDataFrame is not empty\n",
    "if not aoi.empty:\n",
    "    # If the GeoDataFrame contains multiple geometries, dissolve them into one\n",
    "    if len(aoi) > 1:\n",
    "        aoi = aoi.dissolve()\n",
    "\n",
    "    # Extract the first geometry from the dissolved GeoDataFrame\n",
    "    geometry = aoi.geometry.iloc[0]\n",
    "\n",
    "    # Check if the geometry is a Polygon or MultiPolygon\n",
    "    if geometry.geom_type in ['Polygon', 'MultiPolygon']:\n",
    "        # Convert the geometry to GeoJSON format\n",
    "        geojson = geometry.__geo_interface__\n",
    "\n",
    "        # Remove the third dimension from the coordinates if it exists\n",
    "        if geojson['type'] == 'Polygon':\n",
    "            geojson['coordinates'] = [list(map(lambda coord: coord[:2], ring)) for ring in geojson['coordinates']]\n",
    "        elif geojson['type'] == 'MultiPolygon':\n",
    "            geojson['coordinates'] = [[list(map(lambda coord: coord[:2], ring)) for ring in polygon] for polygon in geojson['coordinates']]\n",
    "\n",
    "        # Create an Earth Engine geometry object from the GeoJSON coordinates\n",
    "        ee_geometry = ee.Geometry(geojson)\n",
    "\n",
    "        # Convert the Earth Engine geometry to a Feature\n",
    "        feature = ee.Feature(ee_geometry)\n",
    "\n",
    "        # Create a FeatureCollection with the feature\n",
    "        aoi = ee.FeatureCollection([feature])\n",
    "\n",
    "        print(\"AOI defined successfully.\")\n",
    "\n",
    "        # check_next_button()\n",
    "    else:\n",
    "        \n",
    "        print(\"The geometry is not a valid type (Polygon or MultiPolygon).\")\n",
    "else:\n",
    "    print(\"The shapefile does not contain any geometries.\")        #"
   ]
  },
  {
   "cell_type": "code",
   "execution_count": 3,
   "metadata": {},
   "outputs": [
    {
     "name": "stdout",
     "output_type": "stream",
     "text": [
      "Number of images in collection: 297\n"
     ]
    }
   ],
   "source": [
    "# Define the start and end dates for filtering the image collection\n",
    "inicio = '2022-01-01'\n",
    "final = '2023-12-31'\n",
    "nuvem ='40'\n",
    "\n",
    "# Define the start and end dates for filtering the image collection\n",
    "startDate = '2022-01-01'\n",
    "endDate = '2023-12-31'\n",
    "\n",
    "# Load the Sentinel-2 image collection and filter by date, location, and cloud coverage\n",
    "sentinel2 = ee.ImageCollection('COPERNICUS/S2_SR_HARMONIZED') \\\n",
    "    .filterDate(startDate, endDate) \\\n",
    "    .filterBounds(aoi) \\\n",
    "    .filter(ee.Filter.lt('CLOUDY_PIXEL_PERCENTAGE', 40))\n",
    "\n",
    "# Get the number of images in the collection\n",
    "count = sentinel2.size().getInfo()\n",
    "print(f\"Number of images in collection: {count}\")\n",
    "\n"
   ]
  },
  {
   "cell_type": "code",
   "execution_count": 15,
   "metadata": {},
   "outputs": [
    {
     "ename": "EEException",
     "evalue": "Collection.reduceColumns: Error in map(ID=20220119T132231_20220119T132233_T22KHV):\nImage.reduceRegion: Too many pixels in the region. Found 3134571094, but maxPixels allows only 1000000000.\nEnsure that you are not aggregating at a higher resolution than you intended; that is a frequent cause of this error. If not, then you may set the 'maxPixels' argument to a limit suitable for your computation; set 'bestEffort' to true to aggregate at whatever scale results in 'maxPixels' total pixels; or both.",
     "output_type": "error",
     "traceback": [
      "\u001b[1;31m---------------------------------------------------------------------------\u001b[0m",
      "\u001b[1;31mHttpError\u001b[0m                                 Traceback (most recent call last)",
      "File \u001b[1;32m~\\AppData\\Roaming\\Python\\Python312\\site-packages\\ee\\data.py:406\u001b[0m, in \u001b[0;36m_execute_cloud_call\u001b[1;34m(call, num_retries)\u001b[0m\n\u001b[0;32m    405\u001b[0m \u001b[38;5;28;01mtry\u001b[39;00m:\n\u001b[1;32m--> 406\u001b[0m   \u001b[38;5;28;01mreturn\u001b[39;00m call\u001b[38;5;241m.\u001b[39mexecute(num_retries\u001b[38;5;241m=\u001b[39mnum_retries)\n\u001b[0;32m    407\u001b[0m \u001b[38;5;28;01mexcept\u001b[39;00m googleapiclient\u001b[38;5;241m.\u001b[39merrors\u001b[38;5;241m.\u001b[39mHttpError \u001b[38;5;28;01mas\u001b[39;00m e:\n",
      "File \u001b[1;32m~\\AppData\\Roaming\\Python\\Python312\\site-packages\\googleapiclient\\_helpers.py:130\u001b[0m, in \u001b[0;36mpositional.<locals>.positional_decorator.<locals>.positional_wrapper\u001b[1;34m(*args, **kwargs)\u001b[0m\n\u001b[0;32m    129\u001b[0m         logger\u001b[38;5;241m.\u001b[39mwarning(message)\n\u001b[1;32m--> 130\u001b[0m \u001b[38;5;28;01mreturn\u001b[39;00m wrapped(\u001b[38;5;241m*\u001b[39margs, \u001b[38;5;241m*\u001b[39m\u001b[38;5;241m*\u001b[39mkwargs)\n",
      "File \u001b[1;32m~\\AppData\\Roaming\\Python\\Python312\\site-packages\\googleapiclient\\http.py:938\u001b[0m, in \u001b[0;36mHttpRequest.execute\u001b[1;34m(self, http, num_retries)\u001b[0m\n\u001b[0;32m    937\u001b[0m \u001b[38;5;28;01mif\u001b[39;00m resp\u001b[38;5;241m.\u001b[39mstatus \u001b[38;5;241m>\u001b[39m\u001b[38;5;241m=\u001b[39m \u001b[38;5;241m300\u001b[39m:\n\u001b[1;32m--> 938\u001b[0m     \u001b[38;5;28;01mraise\u001b[39;00m HttpError(resp, content, uri\u001b[38;5;241m=\u001b[39m\u001b[38;5;28mself\u001b[39m\u001b[38;5;241m.\u001b[39muri)\n\u001b[0;32m    939\u001b[0m \u001b[38;5;28;01mreturn\u001b[39;00m \u001b[38;5;28mself\u001b[39m\u001b[38;5;241m.\u001b[39mpostproc(resp, content)\n",
      "\u001b[1;31mHttpError\u001b[0m: <HttpError 400 when requesting https://earthengine.googleapis.com/v1/projects/earthengine-legacy/value:compute?prettyPrint=false&alt=json returned \"Collection.reduceColumns: Error in map(ID=20220119T132231_20220119T132233_T22KHV):\nImage.reduceRegion: Too many pixels in the region. Found 3134571094, but maxPixels allows only 1000000000.\nEnsure that you are not aggregating at a higher resolution than you intended; that is a frequent cause of this error. If not, then you may set the 'maxPixels' argument to a limit suitable for your computation; set 'bestEffort' to true to aggregate at whatever scale results in 'maxPixels' total pixels; or both.\". Details: \"Collection.reduceColumns: Error in map(ID=20220119T132231_20220119T132233_T22KHV):\nImage.reduceRegion: Too many pixels in the region. Found 3134571094, but maxPixels allows only 1000000000.\nEnsure that you are not aggregating at a higher resolution than you intended; that is a frequent cause of this error. If not, then you may set the 'maxPixels' argument to a limit suitable for your computation; set 'bestEffort' to true to aggregate at whatever scale results in 'maxPixels' total pixels; or both.\">",
      "\nDuring handling of the above exception, another exception occurred:\n",
      "\u001b[1;31mEEException\u001b[0m                               Traceback (most recent call last)",
      "Cell \u001b[1;32mIn[15], line 48\u001b[0m\n\u001b[0;32m     45\u001b[0m filtered_collection \u001b[38;5;241m=\u001b[39m filtered_collection\u001b[38;5;241m.\u001b[39mfilter(ee\u001b[38;5;241m.\u001b[39mFilter\u001b[38;5;241m.\u001b[39meq(\u001b[38;5;124m'\u001b[39m\u001b[38;5;124mhasValidPixels\u001b[39m\u001b[38;5;124m'\u001b[39m, \u001b[38;5;28;01mTrue\u001b[39;00m))\n\u001b[0;32m     47\u001b[0m \u001b[38;5;66;03m# Get the number of images after filtering\u001b[39;00m\n\u001b[1;32m---> 48\u001b[0m final_count \u001b[38;5;241m=\u001b[39m filtered_collection\u001b[38;5;241m.\u001b[39msize()\u001b[38;5;241m.\u001b[39mgetInfo()\n\u001b[0;32m     49\u001b[0m \u001b[38;5;28mprint\u001b[39m(\u001b[38;5;124mf\u001b[39m\u001b[38;5;124m\"\u001b[39m\u001b[38;5;124mNumber of images in collection after masking and filtering: \u001b[39m\u001b[38;5;132;01m{\u001b[39;00mfinal_count\u001b[38;5;132;01m}\u001b[39;00m\u001b[38;5;124m\"\u001b[39m)\n",
      "File \u001b[1;32m~\\AppData\\Roaming\\Python\\Python312\\site-packages\\ee\\computedobject.py:107\u001b[0m, in \u001b[0;36mComputedObject.getInfo\u001b[1;34m(self)\u001b[0m\n\u001b[0;32m    101\u001b[0m \u001b[38;5;28;01mdef\u001b[39;00m \u001b[38;5;21mgetInfo\u001b[39m(\u001b[38;5;28mself\u001b[39m) \u001b[38;5;241m-\u001b[39m\u001b[38;5;241m>\u001b[39m Optional[Any]:\n\u001b[0;32m    102\u001b[0m \u001b[38;5;250m  \u001b[39m\u001b[38;5;124;03m\"\"\"Fetch and return information about this object.\u001b[39;00m\n\u001b[0;32m    103\u001b[0m \n\u001b[0;32m    104\u001b[0m \u001b[38;5;124;03m  Returns:\u001b[39;00m\n\u001b[0;32m    105\u001b[0m \u001b[38;5;124;03m    The object can evaluate to anything.\u001b[39;00m\n\u001b[0;32m    106\u001b[0m \u001b[38;5;124;03m  \"\"\"\u001b[39;00m\n\u001b[1;32m--> 107\u001b[0m   \u001b[38;5;28;01mreturn\u001b[39;00m data\u001b[38;5;241m.\u001b[39mcomputeValue(\u001b[38;5;28mself\u001b[39m)\n",
      "File \u001b[1;32m~\\AppData\\Roaming\\Python\\Python312\\site-packages\\ee\\data.py:1126\u001b[0m, in \u001b[0;36mcomputeValue\u001b[1;34m(obj)\u001b[0m\n\u001b[0;32m   1123\u001b[0m body \u001b[38;5;241m=\u001b[39m {\u001b[38;5;124m'\u001b[39m\u001b[38;5;124mexpression\u001b[39m\u001b[38;5;124m'\u001b[39m: serializer\u001b[38;5;241m.\u001b[39mencode(obj, for_cloud_api\u001b[38;5;241m=\u001b[39m\u001b[38;5;28;01mTrue\u001b[39;00m)}\n\u001b[0;32m   1124\u001b[0m _maybe_populate_workload_tag(body)\n\u001b[1;32m-> 1126\u001b[0m \u001b[38;5;28;01mreturn\u001b[39;00m _execute_cloud_call(\n\u001b[0;32m   1127\u001b[0m     _get_cloud_projects()\n\u001b[0;32m   1128\u001b[0m     \u001b[38;5;241m.\u001b[39mvalue()\n\u001b[0;32m   1129\u001b[0m     \u001b[38;5;241m.\u001b[39mcompute(body\u001b[38;5;241m=\u001b[39mbody, project\u001b[38;5;241m=\u001b[39m_get_projects_path(), prettyPrint\u001b[38;5;241m=\u001b[39m\u001b[38;5;28;01mFalse\u001b[39;00m)\n\u001b[0;32m   1130\u001b[0m )[\u001b[38;5;124m'\u001b[39m\u001b[38;5;124mresult\u001b[39m\u001b[38;5;124m'\u001b[39m]\n",
      "File \u001b[1;32m~\\AppData\\Roaming\\Python\\Python312\\site-packages\\ee\\data.py:408\u001b[0m, in \u001b[0;36m_execute_cloud_call\u001b[1;34m(call, num_retries)\u001b[0m\n\u001b[0;32m    406\u001b[0m   \u001b[38;5;28;01mreturn\u001b[39;00m call\u001b[38;5;241m.\u001b[39mexecute(num_retries\u001b[38;5;241m=\u001b[39mnum_retries)\n\u001b[0;32m    407\u001b[0m \u001b[38;5;28;01mexcept\u001b[39;00m googleapiclient\u001b[38;5;241m.\u001b[39merrors\u001b[38;5;241m.\u001b[39mHttpError \u001b[38;5;28;01mas\u001b[39;00m e:\n\u001b[1;32m--> 408\u001b[0m   \u001b[38;5;28;01mraise\u001b[39;00m _translate_cloud_exception(e)\n",
      "\u001b[1;31mEEException\u001b[0m: Collection.reduceColumns: Error in map(ID=20220119T132231_20220119T132233_T22KHV):\nImage.reduceRegion: Too many pixels in the region. Found 3134571094, but maxPixels allows only 1000000000.\nEnsure that you are not aggregating at a higher resolution than you intended; that is a frequent cause of this error. If not, then you may set the 'maxPixels' argument to a limit suitable for your computation; set 'bestEffort' to true to aggregate at whatever scale results in 'maxPixels' total pixels; or both."
     ]
    }
   ],
   "source": [
    "scl_classes_behavior = {\n",
    "    0: True,  # No data\n",
    "    1: True,  # Saturated/defective\n",
    "    2: True,   # Dark features\n",
    "    3: True,  # Cloud shadows\n",
    "    4: False,   # Vegetation\n",
    "    5: True,   # Bare soils\n",
    "    6: False,   # Water\n",
    "    7: True,   # Cloud low probability\n",
    "    8: True,  # Cloud medium probability\n",
    "    9: True,  # Cloud high probability\n",
    "    10: True, # Thin cirrus\n",
    "    11: False  # Snow or ice\n",
    "}\n",
    "\n",
    "def mask_cloud_and_shadows(image):\n",
    "    scl = image.select('SCL')\n",
    "    # Start with an all-inclusive mask\n",
    "    mask = ee.Image.constant(1)\n",
    "    # Apply exclusions using .And() method\n",
    "    for class_value, include in scl_classes_behavior.items():\n",
    "        if not include:\n",
    "            mask = mask.And(scl.neq(class_value))\n",
    "    return image.updateMask(mask)\n",
    "\n",
    "\n",
    "# Apply the mask function to the collection\n",
    "masked_collection = sentinel2.map(mask_cloud_and_shadows)\n",
    "\n",
    "# Remove images with no valid pixels\n",
    "def remove_empty_images(image):\n",
    "    valid_pixel_count = image.mask().reduceRegion(\n",
    "        reducer=ee.Reducer.sum(),\n",
    "        geometry=image.geometry(),\n",
    "        scale=10,\n",
    "        maxPixels=1e9\n",
    "    ).values().get(0)\n",
    "    # Check if there are valid pixels\n",
    "    return ee.Image(image).set('hasValidPixels', ee.Number(valid_pixel_count).gt(0))\n",
    "\n",
    "# Map the function to set the 'hasValidPixels' property\n",
    "filtered_collection = masked_collection.map(remove_empty_images)\n",
    "\n",
    "# Filter collection to include only images with valid pixels\n",
    "filtered_collection = filtered_collection.filter(ee.Filter.eq('hasValidPixels', True))\n",
    "\n",
    "# Get the number of images after filtering\n",
    "final_count = filtered_collection.size().getInfo()\n",
    "print(f\"Number of images in collection after masking and filtering: {final_count}\")\n"
   ]
  }
 ],
 "metadata": {
  "kernelspec": {
   "display_name": "base",
   "language": "python",
   "name": "python3"
  },
  "language_info": {
   "codemirror_mode": {
    "name": "ipython",
    "version": 3
   },
   "file_extension": ".py",
   "mimetype": "text/x-python",
   "name": "python",
   "nbconvert_exporter": "python",
   "pygments_lexer": "ipython3",
   "version": "3.12.7"
  }
 },
 "nbformat": 4,
 "nbformat_minor": 2
}
