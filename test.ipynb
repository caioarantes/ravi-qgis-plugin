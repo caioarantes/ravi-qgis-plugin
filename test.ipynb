{
 "cells": [
  {
   "cell_type": "code",
   "execution_count": null,
   "metadata": {},
   "outputs": [
    {
     "ename": "",
     "evalue": "",
     "output_type": "error",
     "traceback": [
      "\u001b[1;31mFalha ao iniciar o Kernel. \n",
      "\u001b[1;31mNão é possível iniciar o Kernel \"base (Python 3.12.7)\" devido a um tempo limite aguardando as portas serem usadas. \n",
      "\u001b[1;31mConsulte o <a href='command:jupyter.viewOutput'>log</a> do Jupyter para obter mais detalhes."
     ]
    }
   ],
   "source": [
    "# Create a sample DataFrame\n",
    "\n",
    "import pandas as pd\n",
    "data = {\n",
    "    \"col1\": [1, 2, 3, 4, 5],\n",
    "    \"col2\": [\"A\", \"B\", \"C\", \"D\", \"E\"],\n",
    "    \"col3\": [True, False, True, False, True],\n",
    "    \"col4\": [1.1, 2.2, 3.3, 4.4, 5.5],\n",
    "}\n",
    "df = pd.DataFrame(data)\n",
    "\n",
    "try:\n",
    "    # Save the DataFrame to an XLSX file\n",
    "    df.to_excel(filename, index=False, engine=\"openpyxl\")\n",
    "    print(f\"DataFrame saved to {filename}\")\n",
    "\n",
    "    # Open the file after saving (platform-specific)\n",
    "    if platform.system() == \"Windows\":\n",
    "        os.startfile(filename)\n",
    "    elif platform.system() == \"Darwin\":  # macOS\n",
    "        subprocess.call([\"open\", filename])\n",
    "    else:  # Linux and other Unix-like systems\n",
    "        subprocess.call([\"xdg-open\", filename])"
   ]
  }
 ],
 "metadata": {
  "kernelspec": {
   "display_name": "base",
   "language": "python",
   "name": "python3"
  },
  "language_info": {
   "name": "python",
   "version": "3.12.7"
  }
 },
 "nbformat": 4,
 "nbformat_minor": 2
}
