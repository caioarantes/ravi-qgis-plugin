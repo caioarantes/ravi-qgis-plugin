{
 "cells": [
  {
   "cell_type": "code",
   "execution_count": 1,
   "metadata": {},
   "outputs": [],
   "source": [
    "import xml.etree.ElementTree as ET\n",
    "\n",
    "def update_button_styles(ui_file):\n",
    "    # Load the XML\n",
    "    tree = ET.parse(ui_file)\n",
    "    root = tree.getroot()\n",
    "    \n",
    "    # Define new styles\n",
    "    styles = \"\"\"\n",
    "    QPushButton {\n",
    "        background-color: #007bff;\n",
    "        color: white;\n",
    "        border-radius: 6px;\n",
    "        padding: 5px;\n",
    "    }\n",
    "    QPushButton:hover {\n",
    "        background-color: #0056b3;\n",
    "    }\n",
    "    QPushButton#QPushButton_back {\n",
    "        background-color: #6c757d;\n",
    "    }\n",
    "    QPushButton#QPushButton_back:hover {\n",
    "        background-color: #5a6268;\n",
    "    }\n",
    "    QPushButton#QPushButton_next {\n",
    "        background-color: #007bff;\n",
    "    }\n",
    "    QPushButton#QPushButton_next:hover {\n",
    "        background-color: #0056b3;\n",
    "    }\n",
    "    QPushButton#clear_raster, QPushButton#clear_nasa {\n",
    "        background-color: #dc3545;\n",
    "    }\n",
    "    QPushButton#clear_raster:hover, QPushButton#clear_nasa:hover {\n",
    "        background-color: #c82333;\n",
    "    }\n",
    "    \"\"\"\n",
    "    \n",
    "    # Find the styleSheet property and update it\n",
    "    for widget in root.findall(\".//widget[@class='QDialog']\"):\n",
    "        prop = ET.Element(\"property\", name=\"styleSheet\")\n",
    "        style_string = ET.Element(\"string\")\n",
    "        style_string.text = styles.strip()\n",
    "        prop.append(style_string)\n",
    "        widget.append(prop)\n",
    "\n",
    "    # Save the updated UI file\n",
    "    tree.write(ui_file, encoding=\"UTF-8\", xml_declaration=True)\n",
    "    print(f\"Updated button styles in {ui_file}\")\n",
    "\n"
   ]
  },
  {
   "cell_type": "code",
   "execution_count": null,
   "metadata": {},
   "outputs": [],
   "source": []
  },
  {
   "cell_type": "code",
   "execution_count": 2,
   "metadata": {},
   "outputs": [
    {
     "name": "stdout",
     "output_type": "stream",
     "text": [
      "Updated button styles in C:/Users/pc/QGIS/apps/qgis-ltr/python/plugins/ravi-qgis-plugin/ravi_dialog_base_pt.ui\n"
     ]
    }
   ],
   "source": [
    "update_button_styles(f\"C:/Users/pc/QGIS/apps/qgis-ltr/python/plugins/ravi-qgis-plugin/ravi_dialog_base_pt.ui\")"
   ]
  }
 ],
 "metadata": {
  "kernelspec": {
   "display_name": "base",
   "language": "python",
   "name": "python3"
  },
  "language_info": {
   "codemirror_mode": {
    "name": "ipython",
    "version": 3
   },
   "file_extension": ".py",
   "mimetype": "text/x-python",
   "name": "python",
   "nbconvert_exporter": "python",
   "pygments_lexer": "ipython3",
   "version": "3.12.7"
  }
 },
 "nbformat": 4,
 "nbformat_minor": 2
}
