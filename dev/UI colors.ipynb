{
 "cells": [
  {
   "cell_type": "code",
   "execution_count": 3,
   "metadata": {},
   "outputs": [],
   "source": [
    "import xml.etree.ElementTree as ET\n",
    "\n",
    "def update_button_styles(ui_file):\n",
    "    \"\"\"\n",
    "    Updates the QPushButton styles in a Qt Designer .ui file.\n",
    "    Applies a subtle color scheme with soft blue, gray, and red tones.\n",
    "    \"\"\"\n",
    "    # Load the XML\n",
    "    tree = ET.parse(ui_file)\n",
    "    root = tree.getroot()\n",
    "    \n",
    "    # Define new styles\n",
    "    styles = \"\"\"\n",
    "    QPushButton {\n",
    "        background-color: #d1e7ff; /* Soft Blue */\n",
    "        color: black;\n",
    "        border-radius: 6px;\n",
    "        padding: 5px;\n",
    "    }\n",
    "    QPushButton:hover {\n",
    "        background-color: #b6d4fe; /* Slightly Darker Blue */\n",
    "    }\n",
    "    QPushButton#QPushButton_back {\n",
    "        background-color: #e2e3e5; /* Soft Gray */\n",
    "    }\n",
    "    QPushButton#QPushButton_back:hover {\n",
    "        background-color: #d6d8db; /* Slightly Darker Gray */\n",
    "    }\n",
    "    QPushButton#QPushButton_next {\n",
    "        background-color: #d1e7ff;\n",
    "    }\n",
    "    QPushButton#QPushButton_next:hover {\n",
    "        background-color: #b6d4fe;\n",
    "    }\n",
    "    QPushButton#clear_raster, QPushButton#clear_nasa {\n",
    "        background-color: #f8d7da; /* Soft Red */\n",
    "    }\n",
    "    QPushButton#clear_raster:hover, QPushButton#clear_nasa:hover {\n",
    "        background-color: #f1b0b7; /* Slightly Darker Red */\n",
    "    }\n",
    "    \"\"\"\n",
    "    \n",
    "    # Find the styleSheet property and update it\n",
    "    for widget in root.findall(\".//widget[@class='QDialog']\"):\n",
    "        prop = ET.Element(\"property\", name=\"styleSheet\")\n",
    "        style_string = ET.Element(\"string\")\n",
    "        style_string.text = styles.strip()\n",
    "        prop.append(style_string)\n",
    "        widget.append(prop)\n",
    "\n",
    "    # Save the updated UI file\n",
    "    tree.write(ui_file, encoding=\"UTF-8\", xml_declaration=True)\n",
    "    print(f\"Updated button styles in {ui_file}\")\n",
    "\n",
    "# Usage: update_button_styles(\"path/to/your_file.ui\")\n"
   ]
  },
  {
   "cell_type": "code",
   "execution_count": null,
   "metadata": {},
   "outputs": [],
   "source": [
    "update_button_styles(f\"ravi-qgis-plugin/ravi_dialog_base.ui\")"
   ]
  }
 ],
 "metadata": {
  "kernelspec": {
   "display_name": "base",
   "language": "python",
   "name": "python3"
  },
  "language_info": {
   "codemirror_mode": {
    "name": "ipython",
    "version": 3
   },
   "file_extension": ".py",
   "mimetype": "text/x-python",
   "name": "python",
   "nbconvert_exporter": "python",
   "pygments_lexer": "ipython3",
   "version": "3.12.7"
  }
 },
 "nbformat": 4,
 "nbformat_minor": 2
}
